{
  "cells": [
    {
      "cell_type": "markdown",
      "metadata": {},
      "source": [
        "# MNIST Classification with a Simple Neural Network\n",
        "\n",
        "This notebook downloads the MNIST dataset, inspects the data, trains a small fully connected neural network, and evaluates the model on the test set. Everything runs on either CPU or GPU and is compatible with Google Colab."
      ]
    },
    {
      "cell_type": "markdown",
      "metadata": {},
      "source": [
        "## 1. Environment setup\n",
        "\n",
        "Import the required libraries and select the available device."
      ]
    },
    {
      "cell_type": "code",
      "execution_count": null,
      "metadata": {},
      "outputs": [],
      "source": [
        "from pathlib import Path\n",
        "\n",
        "import matplotlib.pyplot as plt\n",
        "import torch\n",
        "from torch import nn\n",
        "from torch.utils.data import DataLoader, random_split\n",
        "from torchvision import datasets, transforms\n",
        "\n",
        "from mnist_nn import SimpleMNISTClassifier, accuracy, count_parameters\n",
        "\n",
        "SEED = 42\n",
        "torch.manual_seed(SEED)\n",
        "if torch.cuda.is_available():\n",
        "    torch.cuda.manual_seed_all(SEED)\n",
        "\n",
        "device = torch.device(\"cuda\" if torch.cuda.is_available() else \"cpu\")\n",
        "print(f\"Using device: {device}\")\n",
        "data_dir = Path(\"data\")\n",
        "data_dir.mkdir(exist_ok=True)"
      ]
    },
    {
      "cell_type": "markdown",
      "metadata": {},
      "source": [
        "## 2. Download and prepare the dataset\n",
        "\n",
        "Load the MNIST dataset, split the training data into training and validation sets, and create PyTorch data loaders."
      ]
    },
    {
      "cell_type": "code",
      "execution_count": null,
      "metadata": {},
      "outputs": [],
      "source": [
        "transform = transforms.ToTensor()\n",
        "\n",
        "full_train_dataset = datasets.MNIST(\n",
        "    root=data_dir, train=True, download=True, transform=transform\n",
        ")\n",
        "test_dataset = datasets.MNIST(\n",
        "    root=data_dir, train=False, download=True, transform=transform\n",
        ")\n",
        "\n",
        "train_size = int(0.9 * len(full_train_dataset))\n",
        "val_size = len(full_train_dataset) - train_size\n",
        "train_dataset, val_dataset = random_split(\n",
        "    full_train_dataset,\n",
        "    [train_size, val_size],\n",
        "    generator=torch.Generator().manual_seed(SEED),\n",
        ")\n",
        "\n",
        "batch_size = 128\n",
        "train_loader = DataLoader(train_dataset, batch_size=batch_size, shuffle=True)\n",
        "val_loader = DataLoader(val_dataset, batch_size=batch_size)\n",
        "test_loader = DataLoader(test_dataset, batch_size=batch_size)\n",
        "\n",
        "len(train_dataset), len(val_dataset), len(test_dataset)"
      ]
    },
    {
      "cell_type": "markdown",
      "metadata": {},
      "source": [
        "## 3. Inspect the data\n",
        "\n",
        "Check dataset statistics, visualize a batch of images, and verify label distribution."
      ]
    },
    {
      "cell_type": "code",
      "execution_count": null,
      "metadata": {},
      "outputs": [],
      "source": [
        "sample_loader = DataLoader(full_train_dataset, batch_size=512)\n",
        "images, labels = next(iter(sample_loader))\n",
        "mean_pixel = images.mean().item()\n",
        "std_pixel = images.std().item()\n",
        "label_counts = torch.bincount(labels, minlength=10)\n",
        "\n",
        "print(f\"Mean pixel value: {mean_pixel:.4f}\")\n",
        "print(f\"Std pixel value: {std_pixel:.4f}\")\n",
        "print(\"Label distribution (counts for digits 0-9):\")\n",
        "print(label_counts.tolist())\n",
        "\n",
        "fig, axes = plt.subplots(2, 6, figsize=(10, 4))\n",
        "for ax, img, label in zip(axes.flatten(), images[:12], labels[:12]):\n",
        "    ax.imshow(img.squeeze(0), cmap=\"gray\")\n",
        "    ax.set_title(f\"Label: {label.item()}\")\n",
        "    ax.axis(\"off\")\n",
        "fig.tight_layout()\n",
        "plt.show()"
      ]
    },
    {
      "cell_type": "markdown",
      "metadata": {},
      "source": [
        "## 4. Build the model\n",
        "\n",
        "Instantiate the neural network and inspect the number of trainable parameters."
      ]
    },
    {
      "cell_type": "code",
      "execution_count": null,
      "metadata": {},
      "outputs": [],
      "source": [
        "model = SimpleMNISTClassifier(hidden_units=256).to(device)\n",
        "print(model)\n",
        "print(f\"Trainable parameters: {count_parameters(model):,}\")\n",
        "\n",
        "loss_fn = nn.CrossEntropyLoss()\n",
        "optimizer = torch.optim.Adam(model.parameters(), lr=1e-3)"
      ]
    },
    {
      "cell_type": "markdown",
      "metadata": {},
      "source": [
        "## 5. Train the network\n",
        "\n",
        "Train for a few epochs while tracking training and validation metrics."
      ]
    },
    {
      "cell_type": "code",
      "execution_count": null,
      "metadata": {},
      "outputs": [],
      "source": [
        "def run_epoch(model, loader, loss_fn, optimizer=None):\n",
        "    is_train = optimizer is not None\n",
        "    model.train(is_train)\n",
        "    epoch_loss = 0.0\n",
        "    epoch_acc = 0.0\n",
        "    for images, labels in loader:\n",
        "        images, labels = images.to(device), labels.to(device)\n",
        "\n",
        "        logits = model(images)\n",
        "        loss = loss_fn(logits, labels)\n",
        "        batch_acc = accuracy(logits, labels)\n",
        "\n",
        "        if is_train:\n",
        "            optimizer.zero_grad()\n",
        "            loss.backward()\n",
        "            optimizer.step()\n",
        "\n",
        "        epoch_loss += loss.item() * images.size(0)\n",
        "        epoch_acc += batch_acc.item() * images.size(0)\n",
        "\n",
        "    dataset_size = len(loader.dataset)\n",
        "    return epoch_loss / dataset_size, epoch_acc / dataset_size\n",
        "\n",
        "\n",
        "num_epochs = 5\n",
        "history = {\"train_loss\": [], \"train_acc\": [], \"val_loss\": [], \"val_acc\": []}\n",
        "\n",
        "for epoch in range(1, num_epochs + 1):\n",
        "    train_loss, train_acc = run_epoch(model, train_loader, loss_fn, optimizer)\n",
        "    val_loss, val_acc = run_epoch(model, val_loader, loss_fn)\n",
        "\n",
        "    history[\"train_loss\"].append(train_loss)\n",
        "    history[\"train_acc\"].append(train_acc)\n",
        "    history[\"val_loss\"].append(val_loss)\n",
        "    history[\"val_acc\"].append(val_acc)\n",
        "\n",
        "    print(\n",
        "        f\"Epoch {epoch}/{num_epochs} - \"\n",
        "        f\"Train loss: {train_loss:.4f}, Train acc: {train_acc:.4f}, \"\n",
        "        f\"Val loss: {val_loss:.4f}, Val acc: {val_acc:.4f}\"\n",
        "    )"
      ]
    },
    {
      "cell_type": "markdown",
      "metadata": {},
      "source": [
        "## 6. Plot training history\n",
        "\n",
        "Visualize how the training and validation metrics evolved."
      ]
    },
    {
      "cell_type": "code",
      "execution_count": null,
      "metadata": {},
      "outputs": [],
      "source": [
        "epochs = range(1, num_epochs + 1)\n",
        "plt.figure(figsize=(12, 4))\n",
        "\n",
        "plt.subplot(1, 2, 1)\n",
        "plt.plot(epochs, history[\"train_loss\"], label=\"Train loss\")\n",
        "plt.plot(epochs, history[\"val_loss\"], label=\"Val loss\")\n",
        "plt.xlabel(\"Epoch\")\n",
        "plt.ylabel(\"Loss\")\n",
        "plt.legend()\n",
        "\n",
        "plt.subplot(1, 2, 2)\n",
        "plt.plot(epochs, history[\"train_acc\"], label=\"Train acc\")\n",
        "plt.plot(epochs, history[\"val_acc\"], label=\"Val acc\")\n",
        "plt.xlabel(\"Epoch\")\n",
        "plt.ylabel(\"Accuracy\")\n",
        "plt.legend()\n",
        "\n",
        "plt.tight_layout()\n",
        "plt.show()"
      ]
    },
    {
      "cell_type": "markdown",
      "metadata": {},
      "source": [
        "## 7. Evaluate on the test set\n",
        "\n",
        "Measure performance on unseen data and inspect a few predictions."
      ]
    },
    {
      "cell_type": "code",
      "execution_count": null,
      "metadata": {},
      "outputs": [],
      "source": [
        "test_loss, test_acc = run_epoch(model, test_loader, loss_fn)\n",
        "print(f\"Test loss: {test_loss:.4f}\")\n",
        "print(f\"Test accuracy: {test_acc:.4f}\")\n",
        "\n",
        "test_images, test_labels = next(iter(test_loader))\n",
        "test_images, test_labels = test_images.to(device), test_labels.to(device)\n",
        "with torch.no_grad():\n",
        "    probabilities = model(test_images, apply_softmax=True)\n",
        "    predicted_labels = probabilities.argmax(dim=1)\n",
        "\n",
        "for idx in range(5):\n",
        "    print(\n",
        "        f\"Image {idx}: True label = {test_labels[idx].item()}, \"\n",
        "        f\"Predicted = {predicted_labels[idx].item()}, \"\n",
        "        f\"Confidence = {probabilities[idx, predicted_labels[idx]].item():.2f}\"\n",
        "    )"
      ]
    }
  ],
  "metadata": {
    "kernelspec": {
      "display_name": "Python 3",
      "language": "python",
      "name": "python3"
    },
    "language_info": {
      "codemirror_mode": {
        "name": "ipython",
        "version": 3
      },
      "file_extension": ".py",
      "mimetype": "text/x-python",
      "name": "python",
      "nbconvert_exporter": "python",
      "pygments_lexer": "ipython3",
      "version": "3.10"
    }
  },
  "nbformat": 4,
  "nbformat_minor": 5
}