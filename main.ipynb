{
  "cells": [
    {
      "cell_type": "markdown",
      "metadata": {
        "id": "n5YWIhdj1aky"
      },
      "source": [
        "# MNIST Classification with a Simple Neural Network\n",
        "\n",
        "This notebook downloads the MNIST dataset, inspects the data, trains a small fully connected neural network, and evaluates the model on the test set. Everything runs on either CPU or GPU and is compatible with Google Colab."
      ],
      "id": "n5YWIhdj1aky"
    },
    {
      "cell_type": "markdown",
      "metadata": {
        "id": "ZuOomhbD1ak0"
      },
      "source": [
        "## 1. Environment setup\n",
        "\n",
        "Import the required libraries and select the available device."
      ],
      "id": "ZuOomhbD1ak0"
    },
    {
      "cell_type": "code",
      "source": [
        "exercise_path = \"/content/mnist-exercise\"\n",
        "!rm -rf {exercise_path}\n",
        "!git clone https://github.com/zivbeker42/mnist-exercise.git {exercise_path}\n",
        "import sys\n",
        "sys.path.append(exercise_path)\n"
      ],
      "metadata": {
        "id": "UHj-1Dxr1uF_",
        "outputId": "36d5a5ee-2a35-4664-a102-d0b9d3d3a8bc",
        "colab": {
          "base_uri": "https://localhost:8080/"
        }
      },
      "id": "UHj-1Dxr1uF_",
      "execution_count": 2,
      "outputs": [
        {
          "output_type": "stream",
          "name": "stdout",
          "text": [
            "Cloning into '/content/mnist-exercise'...\n",
            "remote: Enumerating objects: 18, done.\u001b[K\n",
            "remote: Counting objects: 100% (18/18), done.\u001b[K\n",
            "remote: Compressing objects: 100% (16/16), done.\u001b[K\n",
            "remote: Total 18 (delta 7), reused 5 (delta 1), pack-reused 0 (from 0)\u001b[K\n",
            "Receiving objects: 100% (18/18), 63.34 KiB | 12.67 MiB/s, done.\n",
            "Resolving deltas: 100% (7/7), done.\n"
          ]
        }
      ]
    },
    {
      "cell_type": "code",
      "execution_count": 3,
      "metadata": {
        "id": "IKkTCzyt1ak1",
        "outputId": "07e345e0-f057-4f9a-9788-1dd97affa882",
        "colab": {
          "base_uri": "https://localhost:8080/"
        }
      },
      "outputs": [
        {
          "output_type": "stream",
          "name": "stdout",
          "text": [
            "Using device: cuda\n"
          ]
        }
      ],
      "source": [
        "from pathlib import Path\n",
        "\n",
        "import matplotlib.pyplot as plt\n",
        "import torch\n",
        "from torch import nn\n",
        "from torch.utils.data import DataLoader, random_split\n",
        "from torchvision import datasets, transforms\n",
        "\n",
        "from mnist_nn import SimpleMNISTClassifier, predict, calc_accuracy, count_parameters\n",
        "\n",
        "SEED = 42\n",
        "torch.manual_seed(SEED)\n",
        "if torch.cuda.is_available():\n",
        "    torch.cuda.manual_seed_all(SEED)\n",
        "\n",
        "device = torch.device(\"cuda\" if torch.cuda.is_available() else \"cpu\")\n",
        "print(f\"Using device: {device}\")\n",
        "data_dir = Path(\"sample_data\")\n",
        "data_dir.mkdir(exist_ok=True)"
      ],
      "id": "IKkTCzyt1ak1"
    },
    {
      "cell_type": "markdown",
      "metadata": {
        "id": "SLv-dRpj1ak3"
      },
      "source": [
        "## 2. Download and prepare the dataset\n",
        "\n",
        "Load the MNIST dataset, split the training data into training and validation sets, and create PyTorch data loaders."
      ],
      "id": "SLv-dRpj1ak3"
    },
    {
      "cell_type": "code",
      "execution_count": 4,
      "metadata": {
        "id": "DLSj6hfK1ak3",
        "outputId": "da9d242c-4af9-4e6f-b1cf-50b1f4754289",
        "colab": {
          "base_uri": "https://localhost:8080/"
        }
      },
      "outputs": [
        {
          "output_type": "stream",
          "name": "stderr",
          "text": [
            "100%|██████████| 9.91M/9.91M [00:02<00:00, 4.54MB/s]\n",
            "100%|██████████| 28.9k/28.9k [00:00<00:00, 134kB/s]\n",
            "100%|██████████| 1.65M/1.65M [00:01<00:00, 1.27MB/s]\n",
            "100%|██████████| 4.54k/4.54k [00:00<00:00, 7.20MB/s]\n"
          ]
        },
        {
          "output_type": "execute_result",
          "data": {
            "text/plain": [
              "(54000, 6000, 10000)"
            ]
          },
          "metadata": {},
          "execution_count": 4
        }
      ],
      "source": [
        "transform = transforms.ToTensor()\n",
        "\n",
        "full_train_dataset = datasets.MNIST(\n",
        "    root=data_dir, train=True, download=True, transform=transform\n",
        ")\n",
        "test_dataset = datasets.MNIST(\n",
        "    root=data_dir, train=False, download=True, transform=transform\n",
        ")\n",
        "\n",
        "train_size = int(0.9 * len(full_train_dataset))\n",
        "val_size = len(full_train_dataset) - train_size\n",
        "train_dataset, val_dataset = random_split(\n",
        "    full_train_dataset,\n",
        "    [train_size, val_size],\n",
        "    generator=torch.Generator().manual_seed(SEED),\n",
        ")\n",
        "\n",
        "batch_size = 128\n",
        "train_loader = DataLoader(train_dataset, batch_size=batch_size, shuffle=True)\n",
        "val_loader = DataLoader(val_dataset, batch_size=batch_size)\n",
        "test_loader = DataLoader(test_dataset, batch_size=batch_size)\n",
        "\n",
        "len(train_dataset), len(val_dataset), len(test_dataset)"
      ],
      "id": "DLSj6hfK1ak3"
    },
    {
      "cell_type": "markdown",
      "metadata": {
        "id": "GM8z7Kfn1ak4"
      },
      "source": [
        "## 3. Inspect the data\n",
        "\n",
        "Check dataset statistics, visualize a batch of images, and verify label distribution."
      ],
      "id": "GM8z7Kfn1ak4"
    },
    {
      "cell_type": "code",
      "execution_count": 6,
      "metadata": {
        "id": "KSuHZguR1ak4",
        "outputId": "2fac7b94-4950-42ca-c215-c628e56265cb",
        "colab": {
          "base_uri": "https://localhost:8080/",
          "height": 400
        }
      },
      "outputs": [
        {
          "output_type": "stream",
          "name": "stdout",
          "text": [
            "Mean pixel value: 0.1258\n",
            "Std pixel value: 0.3024\n",
            "Label distribution (counts for digits 0-9):\n",
            "[50, 69, 52, 52, 52, 41, 46, 54, 40, 56]\n"
          ]
        },
        {
          "output_type": "display_data",
          "data": {
            "text/plain": [
              "<Figure size 1000x400 with 12 Axes>"
            ],
            "image/png": "[encoded data removed]"
          },
          "metadata": {}
        }
      ],
      "source": [
        "sample_loader = DataLoader(full_train_dataset, batch_size=512)\n",
        "images, labels = next(iter(sample_loader))\n",
        "mean_pixel = images.mean().item()\n",
        "std_pixel = images.std().item()\n",
        "label_counts = torch.bincount(labels, minlength=10)\n",
        "\n",
        "print(f\"Mean pixel value: {mean_pixel:.4f}\")\n",
        "print(f\"Std pixel value: {std_pixel:.4f}\")\n",
        "print(\"Label distribution (counts for digits 0-9):\")\n",
        "print(label_counts.tolist())\n",
        "\n",
        "fig, axes = plt.subplots(2, 6, figsize=(10, 4))\n",
        "for ax, img, label in zip(axes.flatten(), images[:12], labels[:12]):\n",
        "    ax.imshow(img.squeeze(0), cmap=\"gray\")\n",
        "    ax.set_title(f\"Label: {label.item()}\")\n",
        "    ax.axis(\"off\")\n",
        "fig.tight_layout()\n",
        "plt.show()"
      ],
      "id": "KSuHZguR1ak4"
    },
    {
      "cell_type": "markdown",
      "metadata": {
        "id": "thOPhfku1ak5"
      },
      "source": [
        "## 4. Build the model\n",
        "\n",
        "Instantiate the neural network and inspect the number of trainable parameters."
      ],
      "id": "thOPhfku1ak5"
    },
    {
      "cell_type": "code",
      "execution_count": 7,
      "metadata": {
        "id": "40O5zPbl1ak5",
        "outputId": "4127f57d-eb4c-46b9-cfc5-bb10214ec5dc",
        "colab": {
          "base_uri": "https://localhost:8080/"
        }
      },
      "outputs": [
        {
          "output_type": "stream",
          "name": "stdout",
          "text": [
            "SimpleMNISTClassifier(\n",
            "  (flatten): Flatten(start_dim=1, end_dim=-1)\n",
            "  (classifier): Sequential(\n",
            "    (0): Linear(in_features=784, out_features=16, bias=True)\n",
            "    (1): ReLU()\n",
            "    (2): Linear(in_features=16, out_features=10, bias=True)\n",
            "  )\n",
            ")\n",
            "Trainable parameters: 12,730\n"
          ]
        }
      ],
      "source": [
        "model = SimpleMNISTClassifier(hidden_units=16).to(device)\n",
        "print(model)\n",
        "print(f\"Trainable parameters: {count_parameters(model):,}\")\n",
        "\n",
        "loss_fn = nn.CrossEntropyLoss()\n",
        "optimizer = torch.optim.Adam(model.parameters(), lr=1e-3)"
      ],
      "id": "40O5zPbl1ak5"
    },
    {
      "cell_type": "markdown",
      "metadata": {
        "id": "tuCusGIE1ak5"
      },
      "source": [
        "## 5. Train the network\n",
        "\n",
        "Train for a few epochs while tracking training and validation metrics."
      ],
      "id": "tuCusGIE1ak5"
    },
    {
      "cell_type": "code",
      "execution_count": 8,
      "metadata": {
        "id": "u8Cea1gZ1ak5",
        "outputId": "c501f17c-1fa1-44e1-e22c-a427d47a72d6",
        "colab": {
          "base_uri": "https://localhost:8080/"
        }
      },
      "outputs": [
        {
          "output_type": "stream",
          "name": "stdout",
          "text": [
            "Epoch 1/16 - Train loss: 0.6873, Train acc: 0.8268, Val loss: 0.3589, Val acc: 0.8993\n",
            "Epoch 2/16 - Train loss: 0.3144, Train acc: 0.9117, Val loss: 0.3011, Val acc: 0.9118\n",
            "Epoch 3/16 - Train loss: 0.2761, Train acc: 0.9220, Val loss: 0.2772, Val acc: 0.9182\n",
            "Epoch 4/16 - Train loss: 0.2540, Train acc: 0.9280, Val loss: 0.2671, Val acc: 0.9222\n",
            "Epoch 5/16 - Train loss: 0.2380, Train acc: 0.9334, Val loss: 0.2532, Val acc: 0.9275\n",
            "Epoch 6/16 - Train loss: 0.2255, Train acc: 0.9364, Val loss: 0.2469, Val acc: 0.9288\n",
            "Epoch 7/16 - Train loss: 0.2139, Train acc: 0.9390, Val loss: 0.2356, Val acc: 0.9328\n",
            "Epoch 8/16 - Train loss: 0.2030, Train acc: 0.9426, Val loss: 0.2313, Val acc: 0.9335\n",
            "Epoch 9/16 - Train loss: 0.1947, Train acc: 0.9445, Val loss: 0.2256, Val acc: 0.9338\n",
            "Epoch 10/16 - Train loss: 0.1864, Train acc: 0.9462, Val loss: 0.2216, Val acc: 0.9365\n",
            "Epoch 11/16 - Train loss: 0.1791, Train acc: 0.9486, Val loss: 0.2196, Val acc: 0.9372\n",
            "Epoch 12/16 - Train loss: 0.1731, Train acc: 0.9499, Val loss: 0.2109, Val acc: 0.9395\n",
            "Epoch 13/16 - Train loss: 0.1674, Train acc: 0.9517, Val loss: 0.2125, Val acc: 0.9392\n",
            "Epoch 14/16 - Train loss: 0.1615, Train acc: 0.9534, Val loss: 0.2074, Val acc: 0.9412\n",
            "Epoch 15/16 - Train loss: 0.1573, Train acc: 0.9546, Val loss: 0.2098, Val acc: 0.9407\n",
            "Epoch 16/16 - Train loss: 0.1527, Train acc: 0.9565, Val loss: 0.2044, Val acc: 0.9413\n"
          ]
        }
      ],
      "source": [
        "def run_epoch(model, loader, loss_fn, optimizer=None):\n",
        "    is_train = optimizer is not None\n",
        "    model.train(is_train)\n",
        "    epoch_loss = 0.0\n",
        "    epoch_acc = 0.0\n",
        "    for images, labels in loader:\n",
        "        images, labels = images.to(device), labels.to(device)\n",
        "\n",
        "        logits = model(images)\n",
        "        loss = loss_fn(logits, labels)\n",
        "        predicted_labels = predict(logits)\n",
        "        batch_acc = calc_accuracy(predicted_labels, labels)\n",
        "\n",
        "        if is_train:\n",
        "            optimizer.zero_grad()\n",
        "            loss.backward()\n",
        "            optimizer.step()\n",
        "\n",
        "        epoch_loss += loss.item() * images.size(0)\n",
        "        epoch_acc += batch_acc.item() * images.size(0)\n",
        "\n",
        "    dataset_size = len(loader.dataset)\n",
        "    return epoch_loss / dataset_size, epoch_acc / dataset_size\n",
        "\n",
        "\n",
        "num_epochs = 16\n",
        "history = {\"train_loss\": [], \"train_acc\": [], \"val_loss\": [], \"val_acc\": []}\n",
        "\n",
        "for epoch in range(1, num_epochs + 1):\n",
        "    train_loss, train_acc = run_epoch(model, train_loader, loss_fn, optimizer)\n",
        "    val_loss, val_acc = run_epoch(model, val_loader, loss_fn)\n",
        "\n",
        "    history[\"train_loss\"].append(train_loss)\n",
        "    history[\"train_acc\"].append(train_acc)\n",
        "    history[\"val_loss\"].append(val_loss)\n",
        "    history[\"val_acc\"].append(val_acc)\n",
        "\n",
        "    print(\n",
        "        f\"Epoch {epoch}/{num_epochs} - \"\n",
        "        f\"Train loss: {train_loss:.4f}, Train acc: {train_acc:.4f}, \"\n",
        "        f\"Val loss: {val_loss:.4f}, Val acc: {val_acc:.4f}\"\n",
        "    )"
      ],
      "id": "u8Cea1gZ1ak5"
    },
    {
      "cell_type": "markdown",
      "metadata": {
        "id": "ULhbnEK61ak6"
      },
      "source": [
        "## 6. Plot training history\n",
        "\n",
        "Visualize how the training and validation metrics evolved."
      ],
      "id": "ULhbnEK61ak6"
    },
    {
      "cell_type": "code",
      "execution_count": 9,
      "metadata": {
        "id": "29wtHHn_1ak6",
        "outputId": "ee759d08-8d28-436a-f2a1-f0b51a0c672b",
        "colab": {
          "base_uri": "https://localhost:8080/",
          "height": 288
        }
      },
      "outputs": [
        {
          "output_type": "display_data",
          "data": {
            "text/plain": [
              "<Figure size 1200x400 with 2 Axes>"
            ],
            "image/png": "[encoded data removed]"
          },
          "metadata": {}
        }
      ],
      "source": [
        "epochs = range(1, num_epochs + 1)\n",
        "plt.figure(figsize=(12, 4))\n",
        "\n",
        "plt.subplot(1, 2, 1)\n",
        "plt.plot(epochs, history[\"train_loss\"], label=\"Train loss\")\n",
        "plt.plot(epochs, history[\"val_loss\"], label=\"Val loss\")\n",
        "plt.xlabel(\"Epoch\")\n",
        "plt.ylabel(\"Loss\")\n",
        "plt.legend()\n",
        "\n",
        "plt.subplot(1, 2, 2)\n",
        "plt.plot(epochs, history[\"train_acc\"], label=\"Train acc\")\n",
        "plt.plot(epochs, history[\"val_acc\"], label=\"Val acc\")\n",
        "plt.xlabel(\"Epoch\")\n",
        "plt.ylabel(\"Accuracy\")\n",
        "plt.legend()\n",
        "\n",
        "plt.tight_layout()\n",
        "plt.show()"
      ],
      "id": "29wtHHn_1ak6"
    },
    {
      "cell_type": "markdown",
      "metadata": {
        "id": "w70eHOjl1ak6"
      },
      "source": [
        "## 7. Evaluate on the test set\n",
        "\n",
        "Measure performance on unseen data and inspect a few predictions."
      ],
      "id": "w70eHOjl1ak6"
    },
    {
      "cell_type": "code",
      "execution_count": 10,
      "metadata": {
        "id": "kgRnfaJg1ak7",
        "outputId": "91e797b5-418d-405e-dd7f-95f7b1fdf32c",
        "colab": {
          "base_uri": "https://localhost:8080/"
        }
      },
      "outputs": [
        {
          "output_type": "stream",
          "name": "stdout",
          "text": [
            "Test loss: 0.1818\n",
            "Test accuracy: 0.9487\n",
            "Image 0: True label = 7, Predicted = 7, Confidence = 0.99\n",
            "Image 1: True label = 2, Predicted = 2, Confidence = 0.95\n",
            "Image 2: True label = 1, Predicted = 1, Confidence = 0.99\n",
            "Image 3: True label = 0, Predicted = 0, Confidence = 1.00\n",
            "Image 4: True label = 4, Predicted = 4, Confidence = 0.99\n"
          ]
        }
      ],
      "source": [
        "test_loss, test_acc = run_epoch(model, test_loader, loss_fn)\n",
        "print(f\"Test loss: {test_loss:.4f}\")\n",
        "print(f\"Test accuracy: {test_acc:.4f}\")\n",
        "\n",
        "test_images, test_labels = next(iter(test_loader))\n",
        "test_images, test_labels = test_images.to(device), test_labels.to(device)\n",
        "with torch.no_grad():\n",
        "    logits = model(test_images)\n",
        "    probabilities = torch.softmax(logits, dim=1)\n",
        "    predicted_labels = predict(logits)\n",
        "\n",
        "for idx in range(5):\n",
        "    print(\n",
        "        f\"Image {idx}: True label = {test_labels[idx].item()}, \"\n",
        "        f\"Predicted = {predicted_labels[idx].item()}, \"\n",
        "        f\"Confidence = {probabilities[idx, predicted_labels[idx]].item():.2f}\"\n",
        "    )"
      ],
      "id": "kgRnfaJg1ak7"
    },
    {
      "cell_type": "code",
      "source": [],
      "metadata": {
        "id": "ksx4HTyiu7JX"
      },
      "id": "ksx4HTyiu7JX",
      "execution_count": null,
      "outputs": []
    }
  ],
  "metadata": {
    "kernelspec": {
      "display_name": "Python 3",
      "name": "python3"
    },
    "language_info": {
      "codemirror_mode": {
        "name": "ipython",
        "version": 3
      },
      "file_extension": ".py",
      "mimetype": "text/x-python",
      "name": "python",
      "nbconvert_exporter": "python",
      "pygments_lexer": "ipython3",
      "version": "3.10"
    },
    "colab": {
      "provenance": [],
      "gpuType": "T4"
    },
    "accelerator": "GPU"
  },
  "nbformat": 4,
  "nbformat_minor": 5
}