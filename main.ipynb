{
  "cells": [
    {
      "cell_type": "markdown",
      "metadata": {
        "id": "n5YWIhdj1aky"
      },
      "source": [
        "# MNIST Classification with a Simple Neural Network\n",
        "\n",
        "This notebook downloads the MNIST dataset, inspects the data, trains a small fully connected neural network, and evaluates the model on the test set. Everything runs on either CPU or GPU and is compatible with Google Colab."
      ],
      "id": "n5YWIhdj1aky"
    },
    {
      "cell_type": "markdown",
      "metadata": {
        "id": "ZuOomhbD1ak0"
      },
      "source": [
        "## 1. Environment setup\n",
        "\n",
        "Import the required libraries and select the available device."
      ],
      "id": "ZuOomhbD1ak0"
    },
    {
      "cell_type": "code",
      "source": [
        "exercise_path = \"/content/mnist-exercise\"\n",
        "!rm -rf {exercise_path}\n",
        "!git clone https://github.com/zivbeker42/mnist-exercise.git {exercise_path}\n",
        "import sys\n",
        "sys.path.append(exercise_path)\n"
      ],
      "metadata": {
        "id": "UHj-1Dxr1uF_",
        "outputId": "8fae07ba-4a64-4788-c452-b7940604ae47",
        "colab": {
          "base_uri": "https://localhost:8080/"
        }
      },
      "id": "UHj-1Dxr1uF_",
      "execution_count": 1,
      "outputs": [
        {
          "output_type": "stream",
          "name": "stdout",
          "text": [
            "Cloning into '/content/mnist-exercise'...\n",
            "remote: Enumerating objects: 10, done.\u001b[K\n",
            "remote: Counting objects: 100% (10/10), done.\u001b[K\n",
            "remote: Compressing objects: 100% (8/8), done.\u001b[K\n",
            "remote: Total 10 (delta 1), reused 7 (delta 1), pack-reused 0 (from 0)\u001b[K\n",
            "Receiving objects: 100% (10/10), 6.26 KiB | 6.26 MiB/s, done.\n",
            "Resolving deltas: 100% (1/1), done.\n"
          ]
        }
      ]
    },
    {
      "cell_type": "code",
      "execution_count": 3,
      "metadata": {
        "id": "IKkTCzyt1ak1",
        "outputId": "5c6e7444-ef99-4665-a3ac-7b1db19a1152",
        "colab": {
          "base_uri": "https://localhost:8080/"
        }
      },
      "outputs": [
        {
          "output_type": "stream",
          "name": "stdout",
          "text": [
            "Using device: cuda\n"
          ]
        }
      ],
      "source": [
        "from pathlib import Path\n",
        "\n",
        "import matplotlib.pyplot as plt\n",
        "import torch\n",
        "from torch import nn\n",
        "from torch.utils.data import DataLoader, random_split\n",
        "from torchvision import datasets, transforms\n",
        "\n",
        "from mnist_nn import SimpleMNISTClassifier, accuracy, count_parameters\n",
        "\n",
        "SEED = 42\n",
        "torch.manual_seed(SEED)\n",
        "if torch.cuda.is_available():\n",
        "    torch.cuda.manual_seed_all(SEED)\n",
        "\n",
        "device = torch.device(\"cuda\" if torch.cuda.is_available() else \"cpu\")\n",
        "print(f\"Using device: {device}\")\n",
        "data_dir = Path(\"sample_data\")\n",
        "data_dir.mkdir(exist_ok=True)"
      ],
      "id": "IKkTCzyt1ak1"
    },
    {
      "cell_type": "markdown",
      "metadata": {
        "id": "SLv-dRpj1ak3"
      },
      "source": [
        "## 2. Download and prepare the dataset\n",
        "\n",
        "Load the MNIST dataset, split the training data into training and validation sets, and create PyTorch data loaders."
      ],
      "id": "SLv-dRpj1ak3"
    },
    {
      "cell_type": "code",
      "execution_count": 4,
      "metadata": {
        "id": "DLSj6hfK1ak3",
        "outputId": "832c9805-6bed-42b5-fbbe-e714b915d8ee",
        "colab": {
          "base_uri": "https://localhost:8080/"
        }
      },
      "outputs": [
        {
          "output_type": "stream",
          "name": "stderr",
          "text": [
            "100%|██████████| 9.91M/9.91M [00:01<00:00, 5.10MB/s]\n",
            "100%|██████████| 28.9k/28.9k [00:00<00:00, 134kB/s]\n",
            "100%|██████████| 1.65M/1.65M [00:01<00:00, 1.26MB/s]\n",
            "100%|██████████| 4.54k/4.54k [00:00<00:00, 6.72MB/s]\n"
          ]
        },
        {
          "output_type": "execute_result",
          "data": {
            "text/plain": [
              "(54000, 6000, 10000)"
            ]
          },
          "metadata": {},
          "execution_count": 4
        }
      ],
      "source": [
        "transform = transforms.ToTensor()\n",
        "\n",
        "full_train_dataset = datasets.MNIST(\n",
        "    root=data_dir, train=True, download=True, transform=transform\n",
        ")\n",
        "test_dataset = datasets.MNIST(\n",
        "    root=data_dir, train=False, download=True, transform=transform\n",
        ")\n",
        "\n",
        "train_size = int(0.9 * len(full_train_dataset))\n",
        "val_size = len(full_train_dataset) - train_size\n",
        "train_dataset, val_dataset = random_split(\n",
        "    full_train_dataset,\n",
        "    [train_size, val_size],\n",
        "    generator=torch.Generator().manual_seed(SEED),\n",
        ")\n",
        "\n",
        "batch_size = 128\n",
        "train_loader = DataLoader(train_dataset, batch_size=batch_size, shuffle=True)\n",
        "val_loader = DataLoader(val_dataset, batch_size=batch_size)\n",
        "test_loader = DataLoader(test_dataset, batch_size=batch_size)\n",
        "\n",
        "len(train_dataset), len(val_dataset), len(test_dataset)"
      ],
      "id": "DLSj6hfK1ak3"
    },
    {
      "cell_type": "markdown",
      "metadata": {
        "id": "GM8z7Kfn1ak4"
      },
      "source": [
        "## 3. Inspect the data\n",
        "\n",
        "Check dataset statistics, visualize a batch of images, and verify label distribution."
      ],
      "id": "GM8z7Kfn1ak4"
    },
    {
      "cell_type": "code",
      "execution_count": 5,
      "metadata": {
        "id": "KSuHZguR1ak4",
        "outputId": "ec8eb355-fbca-4764-d511-be21f4e4374d",
        "colab": {
          "base_uri": "https://localhost:8080/",
          "height": 462
        }
      },
      "outputs": [
        {
          "output_type": "stream",
          "name": "stdout",
          "text": [
            "Mean pixel value: 0.1258\n",
            "Std pixel value: 0.3024\n",
            "Label distribution (counts for digits 0-9):\n",
            "[50, 69, 52, 52, 52, 41, 46, 54, 40, 56]\n"
          ]
        },
        {
          "output_type": "display_data",
          "data": {
            "text/plain": [
              "<Figure size 1000x400 with 12 Axes>"
            ],
            "image/png": "[encoded data removed]"
          },
          "metadata": {}
        }
      ],
      "source": [
        "sample_loader = DataLoader(full_train_dataset, batch_size=512)\n",
        "images, labels = next(iter(sample_loader))\n",
        "mean_pixel = images.mean().item()\n",
        "std_pixel = images.std().item()\n",
        "label_counts = torch.bincount(labels, minlength=10)\n",
        "\n",
        "print(f\"Mean pixel value: {mean_pixel:.4f}\")\n",
        "print(f\"Std pixel value: {std_pixel:.4f}\")\n",
        "print(\"Label distribution (counts for digits 0-9):\")\n",
        "print(label_counts.tolist())\n",
        "\n",
        "fig, axes = plt.subplots(2, 6, figsize=(10, 4))\n",
        "for ax, img, label in zip(axes.flatten(), images[:12], labels[:12]):\n",
        "    ax.imshow(img.squeeze(0), cmap=\"gray\")\n",
        "    ax.set_title(f\"Label: {label.item()}\")\n",
        "    ax.axis(\"off\")\n",
        "fig.tight_layout()\n",
        "plt.show()"
      ],
      "id": "KSuHZguR1ak4"
    },
    {
      "cell_type": "markdown",
      "metadata": {
        "id": "thOPhfku1ak5"
      },
      "source": [
        "## 4. Build the model\n",
        "\n",
        "Instantiate the neural network and inspect the number of trainable parameters."
      ],
      "id": "thOPhfku1ak5"
    },
    {
      "cell_type": "code",
      "execution_count": 14,
      "metadata": {
        "id": "40O5zPbl1ak5",
        "outputId": "622a68b0-b292-4579-df01-2f67e045fb1e",
        "colab": {
          "base_uri": "https://localhost:8080/"
        }
      },
      "outputs": [
        {
          "output_type": "stream",
          "name": "stdout",
          "text": [
            "SimpleMNISTClassifier(\n",
            "  (flatten): Flatten(start_dim=1, end_dim=-1)\n",
            "  (classifier): Sequential(\n",
            "    (0): Linear(in_features=784, out_features=16, bias=True)\n",
            "    (1): ReLU()\n",
            "    (2): Linear(in_features=16, out_features=10, bias=True)\n",
            "  )\n",
            "  (softmax): Softmax(dim=1)\n",
            ")\n",
            "Trainable parameters: 12,730\n"
          ]
        }
      ],
      "source": [
        "model = SimpleMNISTClassifier(hidden_units=16).to(device)\n",
        "print(model)\n",
        "print(f\"Trainable parameters: {count_parameters(model):,}\")\n",
        "\n",
        "loss_fn = nn.CrossEntropyLoss()\n",
        "optimizer = torch.optim.Adam(model.parameters(), lr=1e-3)"
      ],
      "id": "40O5zPbl1ak5"
    },
    {
      "cell_type": "markdown",
      "metadata": {
        "id": "tuCusGIE1ak5"
      },
      "source": [
        "## 5. Train the network\n",
        "\n",
        "Train for a few epochs while tracking training and validation metrics."
      ],
      "id": "tuCusGIE1ak5"
    },
    {
      "cell_type": "code",
      "execution_count": 15,
      "metadata": {
        "id": "u8Cea1gZ1ak5",
        "outputId": "60196cf1-c11d-43d9-c6e0-868750af3375",
        "colab": {
          "base_uri": "https://localhost:8080/"
        }
      },
      "outputs": [
        {
          "output_type": "stream",
          "name": "stdout",
          "text": [
            "Epoch 1/16 - Train loss: 0.7120, Train acc: 0.8136, Val loss: 0.3545, Val acc: 0.8997\n",
            "Epoch 2/16 - Train loss: 0.3076, Train acc: 0.9141, Val loss: 0.2933, Val acc: 0.9142\n",
            "Epoch 3/16 - Train loss: 0.2630, Train acc: 0.9257, Val loss: 0.2646, Val acc: 0.9243\n",
            "Epoch 4/16 - Train loss: 0.2375, Train acc: 0.9321, Val loss: 0.2493, Val acc: 0.9293\n",
            "Epoch 5/16 - Train loss: 0.2193, Train acc: 0.9372, Val loss: 0.2425, Val acc: 0.9270\n",
            "Epoch 6/16 - Train loss: 0.2064, Train acc: 0.9403, Val loss: 0.2271, Val acc: 0.9335\n",
            "Epoch 7/16 - Train loss: 0.1952, Train acc: 0.9432, Val loss: 0.2193, Val acc: 0.9360\n",
            "Epoch 8/16 - Train loss: 0.1865, Train acc: 0.9466, Val loss: 0.2163, Val acc: 0.9375\n",
            "Epoch 9/16 - Train loss: 0.1790, Train acc: 0.9481, Val loss: 0.2087, Val acc: 0.9380\n",
            "Epoch 10/16 - Train loss: 0.1730, Train acc: 0.9494, Val loss: 0.2105, Val acc: 0.9395\n",
            "Epoch 11/16 - Train loss: 0.1673, Train acc: 0.9519, Val loss: 0.2032, Val acc: 0.9408\n",
            "Epoch 12/16 - Train loss: 0.1627, Train acc: 0.9526, Val loss: 0.2028, Val acc: 0.9398\n",
            "Epoch 13/16 - Train loss: 0.1569, Train acc: 0.9545, Val loss: 0.1996, Val acc: 0.9412\n",
            "Epoch 14/16 - Train loss: 0.1536, Train acc: 0.9546, Val loss: 0.1985, Val acc: 0.9423\n",
            "Epoch 15/16 - Train loss: 0.1497, Train acc: 0.9559, Val loss: 0.2030, Val acc: 0.9420\n",
            "Epoch 16/16 - Train loss: 0.1463, Train acc: 0.9571, Val loss: 0.1931, Val acc: 0.9435\n"
          ]
        }
      ],
      "source": [
        "def run_epoch(model, loader, loss_fn, optimizer=None):\n",
        "    is_train = optimizer is not None\n",
        "    model.train(is_train)\n",
        "    epoch_loss = 0.0\n",
        "    epoch_acc = 0.0\n",
        "    for images, labels in loader:\n",
        "        images, labels = images.to(device), labels.to(device)\n",
        "\n",
        "        logits = model(images)\n",
        "        loss = loss_fn(logits, labels)\n",
        "        batch_acc = accuracy(logits, labels)\n",
        "\n",
        "        if is_train:\n",
        "            optimizer.zero_grad()\n",
        "            loss.backward()\n",
        "            optimizer.step()\n",
        "\n",
        "        epoch_loss += loss.item() * images.size(0)\n",
        "        epoch_acc += batch_acc.item() * images.size(0)\n",
        "\n",
        "    dataset_size = len(loader.dataset)\n",
        "    return epoch_loss / dataset_size, epoch_acc / dataset_size\n",
        "\n",
        "\n",
        "num_epochs = 16\n",
        "history = {\"train_loss\": [], \"train_acc\": [], \"val_loss\": [], \"val_acc\": []}\n",
        "\n",
        "for epoch in range(1, num_epochs + 1):\n",
        "    train_loss, train_acc = run_epoch(model, train_loader, loss_fn, optimizer)\n",
        "    val_loss, val_acc = run_epoch(model, val_loader, loss_fn)\n",
        "\n",
        "    history[\"train_loss\"].append(train_loss)\n",
        "    history[\"train_acc\"].append(train_acc)\n",
        "    history[\"val_loss\"].append(val_loss)\n",
        "    history[\"val_acc\"].append(val_acc)\n",
        "\n",
        "    print(\n",
        "        f\"Epoch {epoch}/{num_epochs} - \"\n",
        "        f\"Train loss: {train_loss:.4f}, Train acc: {train_acc:.4f}, \"\n",
        "        f\"Val loss: {val_loss:.4f}, Val acc: {val_acc:.4f}\"\n",
        "    )"
      ],
      "id": "u8Cea1gZ1ak5"
    },
    {
      "cell_type": "markdown",
      "metadata": {
        "id": "ULhbnEK61ak6"
      },
      "source": [
        "## 6. Plot training history\n",
        "\n",
        "Visualize how the training and validation metrics evolved."
      ],
      "id": "ULhbnEK61ak6"
    },
    {
      "cell_type": "code",
      "execution_count": 16,
      "metadata": {
        "id": "29wtHHn_1ak6",
        "outputId": "8d4ac5e1-bda2-4153-bf96-7ff9c2728aec",
        "colab": {
          "base_uri": "https://localhost:8080/",
          "height": 407
        }
      },
      "outputs": [
        {
          "output_type": "display_data",
          "data": {
            "text/plain": [
              "<Figure size 1200x400 with 2 Axes>"
            ],
            "image/png": "[encoded data removed]"
          },
          "metadata": {}
        }
      ],
      "source": [
        "epochs = range(1, num_epochs + 1)\n",
        "plt.figure(figsize=(12, 4))\n",
        "\n",
        "plt.subplot(1, 2, 1)\n",
        "plt.plot(epochs, history[\"train_loss\"], label=\"Train loss\")\n",
        "plt.plot(epochs, history[\"val_loss\"], label=\"Val loss\")\n",
        "plt.xlabel(\"Epoch\")\n",
        "plt.ylabel(\"Loss\")\n",
        "plt.legend()\n",
        "\n",
        "plt.subplot(1, 2, 2)\n",
        "plt.plot(epochs, history[\"train_acc\"], label=\"Train acc\")\n",
        "plt.plot(epochs, history[\"val_acc\"], label=\"Val acc\")\n",
        "plt.xlabel(\"Epoch\")\n",
        "plt.ylabel(\"Accuracy\")\n",
        "plt.legend()\n",
        "\n",
        "plt.tight_layout()\n",
        "plt.show()"
      ],
      "id": "29wtHHn_1ak6"
    },
    {
      "cell_type": "markdown",
      "metadata": {
        "id": "w70eHOjl1ak6"
      },
      "source": [
        "## 7. Evaluate on the test set\n",
        "\n",
        "Measure performance on unseen data and inspect a few predictions."
      ],
      "id": "w70eHOjl1ak6"
    },
    {
      "cell_type": "code",
      "execution_count": 17,
      "metadata": {
        "id": "kgRnfaJg1ak7",
        "outputId": "0741d4af-4f8d-41aa-c64e-cdc2c6250956",
        "colab": {
          "base_uri": "https://localhost:8080/"
        }
      },
      "outputs": [
        {
          "output_type": "stream",
          "name": "stdout",
          "text": [
            "Test loss: 0.1696\n",
            "Test accuracy: 0.9491\n",
            "Image 0: True label = 7, Predicted = 7, Confidence = 0.99\n",
            "Image 1: True label = 2, Predicted = 2, Confidence = 0.98\n",
            "Image 2: True label = 1, Predicted = 1, Confidence = 0.99\n",
            "Image 3: True label = 0, Predicted = 0, Confidence = 1.00\n",
            "Image 4: True label = 4, Predicted = 4, Confidence = 0.95\n"
          ]
        }
      ],
      "source": [
        "test_loss, test_acc = run_epoch(model, test_loader, loss_fn)\n",
        "print(f\"Test loss: {test_loss:.4f}\")\n",
        "print(f\"Test accuracy: {test_acc:.4f}\")\n",
        "\n",
        "test_images, test_labels = next(iter(test_loader))\n",
        "test_images, test_labels = test_images.to(device), test_labels.to(device)\n",
        "with torch.no_grad():\n",
        "    probabilities = model(test_images, apply_softmax=True)\n",
        "    predicted_labels = probabilities.argmax(dim=1)\n",
        "\n",
        "for idx in range(5):\n",
        "    print(\n",
        "        f\"Image {idx}: True label = {test_labels[idx].item()}, \"\n",
        "        f\"Predicted = {predicted_labels[idx].item()}, \"\n",
        "        f\"Confidence = {probabilities[idx, predicted_labels[idx]].item():.2f}\"\n",
        "    )"
      ],
      "id": "kgRnfaJg1ak7"
    }
  ],
  "metadata": {
    "kernelspec": {
      "display_name": "Python 3",
      "name": "python3"
    },
    "language_info": {
      "codemirror_mode": {
        "name": "ipython",
        "version": 3
      },
      "file_extension": ".py",
      "mimetype": "text/x-python",
      "name": "python",
      "nbconvert_exporter": "python",
      "pygments_lexer": "ipython3",
      "version": "3.10"
    },
    "colab": {
      "provenance": [],
      "gpuType": "T4"
    },
    "accelerator": "GPU"
  },
  "nbformat": 4,
  "nbformat_minor": 5
}